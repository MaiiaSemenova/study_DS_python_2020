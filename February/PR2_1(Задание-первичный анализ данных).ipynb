{
 "cells": [
  {
   "cell_type": "markdown",
   "metadata": {},
   "source": [
    "Семенова Майя Валериевна"
   ]
  },
  {
   "cell_type": "code",
   "execution_count": 1,
   "metadata": {},
   "outputs": [],
   "source": [
    "#Урок 1. Домашнее задание. \n",
    "#Автор материала: Юрий Кашницкий, программист-исследователь Mail.Ru Group"
   ]
  },
  {
   "cell_type": "code",
   "execution_count": 2,
   "metadata": {},
   "outputs": [
    {
     "data": {
      "text/html": [
       "<div>\n",
       "<style scoped>\n",
       "    .dataframe tbody tr th:only-of-type {\n",
       "        vertical-align: middle;\n",
       "    }\n",
       "\n",
       "    .dataframe tbody tr th {\n",
       "        vertical-align: top;\n",
       "    }\n",
       "\n",
       "    .dataframe thead th {\n",
       "        text-align: right;\n",
       "    }\n",
       "</style>\n",
       "<table border=\"1\" class=\"dataframe\">\n",
       "  <thead>\n",
       "    <tr style=\"text-align: right;\">\n",
       "      <th></th>\n",
       "      <th>age</th>\n",
       "      <th>workclass</th>\n",
       "      <th>fnlwgt</th>\n",
       "      <th>education</th>\n",
       "      <th>education-num</th>\n",
       "      <th>marital-status</th>\n",
       "      <th>occupation</th>\n",
       "      <th>relationship</th>\n",
       "      <th>race</th>\n",
       "      <th>sex</th>\n",
       "      <th>capital-gain</th>\n",
       "      <th>capital-loss</th>\n",
       "      <th>hours-per-week</th>\n",
       "      <th>native-country</th>\n",
       "      <th>salary</th>\n",
       "    </tr>\n",
       "  </thead>\n",
       "  <tbody>\n",
       "    <tr>\n",
       "      <td>0</td>\n",
       "      <td>39</td>\n",
       "      <td>State-gov</td>\n",
       "      <td>77516</td>\n",
       "      <td>Bachelors</td>\n",
       "      <td>13</td>\n",
       "      <td>Never-married</td>\n",
       "      <td>Adm-clerical</td>\n",
       "      <td>Not-in-family</td>\n",
       "      <td>White</td>\n",
       "      <td>Male</td>\n",
       "      <td>2174</td>\n",
       "      <td>0</td>\n",
       "      <td>40</td>\n",
       "      <td>United-States</td>\n",
       "      <td>&lt;=50K</td>\n",
       "    </tr>\n",
       "    <tr>\n",
       "      <td>1</td>\n",
       "      <td>50</td>\n",
       "      <td>Self-emp-not-inc</td>\n",
       "      <td>83311</td>\n",
       "      <td>Bachelors</td>\n",
       "      <td>13</td>\n",
       "      <td>Married-civ-spouse</td>\n",
       "      <td>Exec-managerial</td>\n",
       "      <td>Husband</td>\n",
       "      <td>White</td>\n",
       "      <td>Male</td>\n",
       "      <td>0</td>\n",
       "      <td>0</td>\n",
       "      <td>13</td>\n",
       "      <td>United-States</td>\n",
       "      <td>&lt;=50K</td>\n",
       "    </tr>\n",
       "    <tr>\n",
       "      <td>2</td>\n",
       "      <td>38</td>\n",
       "      <td>Private</td>\n",
       "      <td>215646</td>\n",
       "      <td>HS-grad</td>\n",
       "      <td>9</td>\n",
       "      <td>Divorced</td>\n",
       "      <td>Handlers-cleaners</td>\n",
       "      <td>Not-in-family</td>\n",
       "      <td>White</td>\n",
       "      <td>Male</td>\n",
       "      <td>0</td>\n",
       "      <td>0</td>\n",
       "      <td>40</td>\n",
       "      <td>United-States</td>\n",
       "      <td>&lt;=50K</td>\n",
       "    </tr>\n",
       "    <tr>\n",
       "      <td>3</td>\n",
       "      <td>53</td>\n",
       "      <td>Private</td>\n",
       "      <td>234721</td>\n",
       "      <td>11th</td>\n",
       "      <td>7</td>\n",
       "      <td>Married-civ-spouse</td>\n",
       "      <td>Handlers-cleaners</td>\n",
       "      <td>Husband</td>\n",
       "      <td>Black</td>\n",
       "      <td>Male</td>\n",
       "      <td>0</td>\n",
       "      <td>0</td>\n",
       "      <td>40</td>\n",
       "      <td>United-States</td>\n",
       "      <td>&lt;=50K</td>\n",
       "    </tr>\n",
       "    <tr>\n",
       "      <td>4</td>\n",
       "      <td>28</td>\n",
       "      <td>Private</td>\n",
       "      <td>338409</td>\n",
       "      <td>Bachelors</td>\n",
       "      <td>13</td>\n",
       "      <td>Married-civ-spouse</td>\n",
       "      <td>Prof-specialty</td>\n",
       "      <td>Wife</td>\n",
       "      <td>Black</td>\n",
       "      <td>Female</td>\n",
       "      <td>0</td>\n",
       "      <td>0</td>\n",
       "      <td>40</td>\n",
       "      <td>Cuba</td>\n",
       "      <td>&lt;=50K</td>\n",
       "    </tr>\n",
       "  </tbody>\n",
       "</table>\n",
       "</div>"
      ],
      "text/plain": [
       "   age         workclass  fnlwgt  education  education-num  \\\n",
       "0   39         State-gov   77516  Bachelors             13   \n",
       "1   50  Self-emp-not-inc   83311  Bachelors             13   \n",
       "2   38           Private  215646    HS-grad              9   \n",
       "3   53           Private  234721       11th              7   \n",
       "4   28           Private  338409  Bachelors             13   \n",
       "\n",
       "       marital-status         occupation   relationship   race     sex  \\\n",
       "0       Never-married       Adm-clerical  Not-in-family  White    Male   \n",
       "1  Married-civ-spouse    Exec-managerial        Husband  White    Male   \n",
       "2            Divorced  Handlers-cleaners  Not-in-family  White    Male   \n",
       "3  Married-civ-spouse  Handlers-cleaners        Husband  Black    Male   \n",
       "4  Married-civ-spouse     Prof-specialty           Wife  Black  Female   \n",
       "\n",
       "   capital-gain  capital-loss  hours-per-week native-country salary  \n",
       "0          2174             0              40  United-States  <=50K  \n",
       "1             0             0              13  United-States  <=50K  \n",
       "2             0             0              40  United-States  <=50K  \n",
       "3             0             0              40  United-States  <=50K  \n",
       "4             0             0              40           Cuba  <=50K  "
      ]
     },
     "execution_count": 2,
     "metadata": {},
     "output_type": "execute_result"
    }
   ],
   "source": [
    "import pandas as pd\n",
    "import numpy as np\n",
    "import matplotlib as mt\n",
    "data = pd.read_csv('adult.data.csv')\n",
    "data.head()"
   ]
  },
  {
   "cell_type": "markdown",
   "metadata": {},
   "source": [
    "1.Сколько мужчин и женщин (признак sex) представлено в этом наборе данных?\n",
    "2. Каков средний возраст (признак age) женщин?\n",
    "3. Какова доля граждан Германии (признак native-country)?\n",
    "4-5. Каковы средние значения и среднеквадратичные отклонения возраста тех, кто получа\n",
    "ет более 50K в год (признак salary) и тех, кто получает менее 50K в год?\n",
    "6. Правда ли, что люди, которые получают больше 50k, имеют как минимум высшее образование? (признак education – Bachelors, Prof-school, Assoc-acdm, Assoc-voc, Masters или Doctorate)\n",
    "7. Выведите статистику возраста для каждой расы (признак race) и каждого пола. Используйте groupby и describe. Найдите таким образом максимальный возраст мужчин расы Amer-Indian-Eskimo.\n",
    "8. Среди кого больше доля зарабатывающих много (>50K): среди женатых или холостых мужчин (признак marital-status)? Женатыми считаем тех, у кого marital-status начинается с Married (Married-civ-spouse, Married-spouse-absent или Married-AF-spouse), остальных считаем холостыми.\n",
    "9. Какое максимальное число часов человек работает в неделю (признак hours-per-week)? Сколько людей работают такое количество часов и каков среди них процент зарабатывающих много?\n",
    "10. Посчитайте среднее время работы (hours-per-week) зарабатывающих мало и много (salary) для каждой страны (native-country)."
   ]
  },
  {
   "cell_type": "code",
   "execution_count": 3,
   "metadata": {},
   "outputs": [
    {
     "name": "stdout",
     "output_type": "stream",
     "text": [
      "Male      21790\n",
      "Female    10771\n",
      "Name: sex, dtype: int64\n"
     ]
    }
   ],
   "source": [
    "#1.Сколько мужчин и женщин (признак sex) представлено в этом наборе данных?\n",
    "print(data['sex'].value_counts())"
   ]
  },
  {
   "cell_type": "code",
   "execution_count": 4,
   "metadata": {},
   "outputs": [
    {
     "name": "stdout",
     "output_type": "stream",
     "text": [
      "Средний возраст женщин  36.85823043357163\n"
     ]
    }
   ],
   "source": [
    "#2.Каков средний возраст (признак age) женщин?\n",
    "print('Средний возраст женщин ',data[(data['sex'] == 'Female')]['age'].mean())"
   ]
  },
  {
   "cell_type": "code",
   "execution_count": 5,
   "metadata": {},
   "outputs": [
    {
     "name": "stdout",
     "output_type": "stream",
     "text": [
      "Доля граждан Германии: 0.004207487485028101\n"
     ]
    }
   ],
   "source": [
    "#3.Какова доля граждан Германии (признак native-country)?\n",
    "print('Доля граждан Германии:', (data[data['native-country'] == 'Germany']['native-country'].count() /\n",
    "                                 data['native-country'].count()))"
   ]
  },
  {
   "cell_type": "code",
   "execution_count": 6,
   "metadata": {},
   "outputs": [
    {
     "name": "stdout",
     "output_type": "stream",
     "text": [
      "Среднее значение возраста тех, кто получает более 50К в год:  44.24984058155847\n",
      "Среднеквадратичное отклонение возраста тех, кто получает более 50К в год:  10.51902771985177\n",
      "Среднее значение возраста тех, кто получает менее 50К в год:  36.78373786407767\n",
      "Среднеквадратичное отклонение возраста тех, кто получает менее 50К в год:  14.020088490824813\n"
     ]
    }
   ],
   "source": [
    "#4-5. Каковы средние значения и среднеквадратичные отклонения возраста тех, кто получа ет более 50K в год (признак salary) и тех, кто получает менее 50K в год?\n",
    "print('Среднее значение возраста тех, кто получает более 50К в год: ', data[(data['salary'] == '>50K')]['age'].mean())\n",
    "print('Среднеквадратичное отклонение возраста тех, кто получает более 50К в год: ', data[(data['salary'] == '>50K')]['age'].std())\n",
    "print('Среднее значение возраста тех, кто получает менее 50К в год: ', data[(data['salary'] == '<=50K')]['age'].mean())\n",
    "print('Среднеквадратичное отклонение возраста тех, кто получает менее 50К в год: ', data[(data['salary'] == '<=50K')]['age'].std())"
   ]
  },
  {
   "cell_type": "code",
   "execution_count": 7,
   "metadata": {},
   "outputs": [
    {
     "name": "stdout",
     "output_type": "stream",
     "text": [
      "Люди, которые получают больше 50К не все, но большинство, имеет как минимум высшее образование!\n"
     ]
    }
   ],
   "source": [
    "#4.Правда ли, что люди, которые получают больше 50k, имеют как минимум высшее образование? (признак education – Bachelors, Prof-school, Assoc-acdm, Assoc-voc, Masters или Doctorate)\n",
    "total = (data[(data['salary'] == '>50K')]['salary'].count())\n",
    "total_vys = (data[(data['education-num'] > 11) & (data['salary'] == '>50K')]['salary'].count())\n",
    "if total_vys/total > 0.5:\n",
    "    print('Люди, которые получают больше 50К не все, но большинство, имеет как минимум высшее образование!')\n",
    "else:\n",
    "    print('Люди, которые получают больше 50К не имеют высшего образования!')"
   ]
  },
  {
   "cell_type": "code",
   "execution_count": 8,
   "metadata": {},
   "outputs": [
    {
     "name": "stdout",
     "output_type": "stream",
     "text": [
      "count     32561\n",
      "unique        5\n",
      "top       White\n",
      "freq      27816\n",
      "Name: race, dtype: object\n",
      "                                 age         fnlwgt  education-num  \\\n",
      "race               sex                                               \n",
      "Amer-Indian-Eskimo Female  37.117647  112950.731092       9.697479   \n",
      "                   Male    37.208333  125715.364583       9.072917   \n",
      "Asian-Pac-Islander Female  35.089595  147452.075145      10.390173   \n",
      "                   Male    39.073593  166175.865801      11.245310   \n",
      "Black              Female  37.854019  212971.387781       9.549839   \n",
      "                   Male    37.682600  242920.644997       9.423199   \n",
      "Other              Female  31.678899  172519.642202       8.899083   \n",
      "                   Male    34.654321  213679.104938       8.802469   \n",
      "White              Female  36.811618  183549.966906      10.127980   \n",
      "                   Male    39.652498  188987.386148      10.138521   \n",
      "\n",
      "                           capital-gain  capital-loss  hours-per-week  \n",
      "race               sex                                                 \n",
      "Amer-Indian-Eskimo Female    544.605042     14.462185       36.579832  \n",
      "                   Male      675.260417     46.395833       42.197917  \n",
      "Asian-Pac-Islander Female    778.436416     50.852601       37.439306  \n",
      "                   Male     1827.813853    120.373737       41.468975  \n",
      "Black              Female    516.593569     45.450804       36.834084  \n",
      "                   Male      702.454430     75.186106       39.997451  \n",
      "Other              Female    254.669725     36.284404       35.926606  \n",
      "                   Male     1392.185185     77.746914       41.851852  \n",
      "White              Female    573.610391     65.390535       36.296691  \n",
      "                   Male     1368.674455    102.261343       42.668822  \n",
      "Максимальный возраст мужчин расы \"Amer-Indian-Eskimo\":  82\n"
     ]
    }
   ],
   "source": [
    "#5.Выведите статистику возраста для каждой расы (признак race) и каждого пола. Используйте groupby и describe. Найдите таким образом максимальный возраст мужчин расы Amer-Indian-Eskimo.\n",
    "print(data['race'].describe())\n",
    "print(data.groupby(['race', 'sex']).mean())\n",
    "print('Максимальный возраст мужчин расы \"Amer-Indian-Eskimo\": ' , data[(data['race'] == 'Amer-Indian-Eskimo') & (data['sex'] == 'Male')]['age'].max())"
   ]
  },
  {
   "cell_type": "code",
   "execution_count": 9,
   "metadata": {},
   "outputs": [
    {
     "data": {
      "text/plain": [
       "Married-civ-spouse       6692\n",
       "Never-married             491\n",
       "Divorced                  463\n",
       "Widowed                    85\n",
       "Separated                  66\n",
       "Married-spouse-absent      34\n",
       "Married-AF-spouse          10\n",
       "Name: marital-status, dtype: int64"
      ]
     },
     "execution_count": 9,
     "metadata": {},
     "output_type": "execute_result"
    }
   ],
   "source": [
    "#6.Среди кого больше доля зарабатывающих много (>50K): среди женатых или холостых мужчин (признак marital-status)? Женатыми считаем тех, у кого marital-status начинается с Married (Married-civ-spouse, Married-spouse-absent или Married-AF-spouse), остальных считаем холостыми.\n",
    "data[(data['salary'] == '>50K')]['marital-status'].value_counts()"
   ]
  },
  {
   "cell_type": "code",
   "execution_count": 10,
   "metadata": {},
   "outputs": [
    {
     "name": "stdout",
     "output_type": "stream",
     "text": [
      "Максимальное количество часов, которое человек работает в неделю:  99\n"
     ]
    },
    {
     "data": {
      "text/plain": [
       "<=50K    0.705882\n",
       ">50K     0.294118\n",
       "Name: salary, dtype: float64"
      ]
     },
     "execution_count": 10,
     "metadata": {},
     "output_type": "execute_result"
    }
   ],
   "source": [
    "#7.Какое максимальное число часов человек работает в неделю (признак hours-per-week)? Сколько людей работают такое количество часов и каков среди них процент зарабатывающих много?\n",
    "print('Максимальное количество часов, которое человек работает в неделю: ',data['hours-per-week'].max())\n",
    "data[(data['hours-per-week'] >= 99)]['salary'].value_counts('>50K')"
   ]
  },
  {
   "cell_type": "code",
   "execution_count": 11,
   "metadata": {},
   "outputs": [
    {
     "data": {
      "text/html": [
       "<div>\n",
       "<style scoped>\n",
       "    .dataframe tbody tr th:only-of-type {\n",
       "        vertical-align: middle;\n",
       "    }\n",
       "\n",
       "    .dataframe tbody tr th {\n",
       "        vertical-align: top;\n",
       "    }\n",
       "\n",
       "    .dataframe thead th {\n",
       "        text-align: right;\n",
       "    }\n",
       "</style>\n",
       "<table border=\"1\" class=\"dataframe\">\n",
       "  <thead>\n",
       "    <tr style=\"text-align: right;\">\n",
       "      <th></th>\n",
       "      <th></th>\n",
       "      <th>age</th>\n",
       "      <th>fnlwgt</th>\n",
       "      <th>education-num</th>\n",
       "      <th>capital-gain</th>\n",
       "      <th>capital-loss</th>\n",
       "      <th>hours-per-week</th>\n",
       "    </tr>\n",
       "    <tr>\n",
       "      <th>native-country</th>\n",
       "      <th>salary</th>\n",
       "      <th></th>\n",
       "      <th></th>\n",
       "      <th></th>\n",
       "      <th></th>\n",
       "      <th></th>\n",
       "      <th></th>\n",
       "    </tr>\n",
       "  </thead>\n",
       "  <tbody>\n",
       "    <tr>\n",
       "      <td rowspan=\"2\" valign=\"top\">?</td>\n",
       "      <td>&lt;=50K</td>\n",
       "      <td>36.853547</td>\n",
       "      <td>195354.379863</td>\n",
       "      <td>10.038902</td>\n",
       "      <td>113.757437</td>\n",
       "      <td>62.427918</td>\n",
       "      <td>40.164760</td>\n",
       "    </tr>\n",
       "    <tr>\n",
       "      <td>&gt;50K</td>\n",
       "      <td>44.328767</td>\n",
       "      <td>187154.513699</td>\n",
       "      <td>12.273973</td>\n",
       "      <td>6873.205479</td>\n",
       "      <td>285.397260</td>\n",
       "      <td>45.547945</td>\n",
       "    </tr>\n",
       "    <tr>\n",
       "      <td rowspan=\"2\" valign=\"top\">Cambodia</td>\n",
       "      <td>&lt;=50K</td>\n",
       "      <td>35.666667</td>\n",
       "      <td>167065.666667</td>\n",
       "      <td>7.916667</td>\n",
       "      <td>498.250000</td>\n",
       "      <td>289.833333</td>\n",
       "      <td>41.416667</td>\n",
       "    </tr>\n",
       "    <tr>\n",
       "      <td>&gt;50K</td>\n",
       "      <td>41.428571</td>\n",
       "      <td>237677.000000</td>\n",
       "      <td>10.285714</td>\n",
       "      <td>1935.714286</td>\n",
       "      <td>0.000000</td>\n",
       "      <td>40.000000</td>\n",
       "    </tr>\n",
       "    <tr>\n",
       "      <td>Canada</td>\n",
       "      <td>&lt;=50K</td>\n",
       "      <td>41.012195</td>\n",
       "      <td>169279.585366</td>\n",
       "      <td>10.243902</td>\n",
       "      <td>110.695122</td>\n",
       "      <td>145.524390</td>\n",
       "      <td>37.914634</td>\n",
       "    </tr>\n",
       "    <tr>\n",
       "      <td>...</td>\n",
       "      <td>...</td>\n",
       "      <td>...</td>\n",
       "      <td>...</td>\n",
       "      <td>...</td>\n",
       "      <td>...</td>\n",
       "      <td>...</td>\n",
       "      <td>...</td>\n",
       "    </tr>\n",
       "    <tr>\n",
       "      <td>United-States</td>\n",
       "      <td>&gt;50K</td>\n",
       "      <td>44.297169</td>\n",
       "      <td>187433.992330</td>\n",
       "      <td>11.578859</td>\n",
       "      <td>3967.286850</td>\n",
       "      <td>194.465207</td>\n",
       "      <td>45.505369</td>\n",
       "    </tr>\n",
       "    <tr>\n",
       "      <td rowspan=\"2\" valign=\"top\">Vietnam</td>\n",
       "      <td>&lt;=50K</td>\n",
       "      <td>33.951613</td>\n",
       "      <td>165028.725806</td>\n",
       "      <td>9.661290</td>\n",
       "      <td>240.193548</td>\n",
       "      <td>94.338710</td>\n",
       "      <td>37.193548</td>\n",
       "    </tr>\n",
       "    <tr>\n",
       "      <td>&gt;50K</td>\n",
       "      <td>35.400000</td>\n",
       "      <td>141648.400000</td>\n",
       "      <td>9.600000</td>\n",
       "      <td>5873.600000</td>\n",
       "      <td>0.000000</td>\n",
       "      <td>39.200000</td>\n",
       "    </tr>\n",
       "    <tr>\n",
       "      <td rowspan=\"2\" valign=\"top\">Yugoslavia</td>\n",
       "      <td>&lt;=50K</td>\n",
       "      <td>38.000000</td>\n",
       "      <td>227306.800000</td>\n",
       "      <td>9.700000</td>\n",
       "      <td>0.000000</td>\n",
       "      <td>0.000000</td>\n",
       "      <td>41.600000</td>\n",
       "    </tr>\n",
       "    <tr>\n",
       "      <td>&gt;50K</td>\n",
       "      <td>40.166667</td>\n",
       "      <td>197059.166667</td>\n",
       "      <td>10.333333</td>\n",
       "      <td>926.000000</td>\n",
       "      <td>0.000000</td>\n",
       "      <td>49.500000</td>\n",
       "    </tr>\n",
       "  </tbody>\n",
       "</table>\n",
       "<p>82 rows × 6 columns</p>\n",
       "</div>"
      ],
      "text/plain": [
       "                             age         fnlwgt  education-num  capital-gain  \\\n",
       "native-country salary                                                          \n",
       "?              <=50K   36.853547  195354.379863      10.038902    113.757437   \n",
       "               >50K    44.328767  187154.513699      12.273973   6873.205479   \n",
       "Cambodia       <=50K   35.666667  167065.666667       7.916667    498.250000   \n",
       "               >50K    41.428571  237677.000000      10.285714   1935.714286   \n",
       "Canada         <=50K   41.012195  169279.585366      10.243902    110.695122   \n",
       "...                          ...            ...            ...           ...   \n",
       "United-States  >50K    44.297169  187433.992330      11.578859   3967.286850   \n",
       "Vietnam        <=50K   33.951613  165028.725806       9.661290    240.193548   \n",
       "               >50K    35.400000  141648.400000       9.600000   5873.600000   \n",
       "Yugoslavia     <=50K   38.000000  227306.800000       9.700000      0.000000   \n",
       "               >50K    40.166667  197059.166667      10.333333    926.000000   \n",
       "\n",
       "                       capital-loss  hours-per-week  \n",
       "native-country salary                                \n",
       "?              <=50K      62.427918       40.164760  \n",
       "               >50K      285.397260       45.547945  \n",
       "Cambodia       <=50K     289.833333       41.416667  \n",
       "               >50K        0.000000       40.000000  \n",
       "Canada         <=50K     145.524390       37.914634  \n",
       "...                             ...             ...  \n",
       "United-States  >50K      194.465207       45.505369  \n",
       "Vietnam        <=50K      94.338710       37.193548  \n",
       "               >50K        0.000000       39.200000  \n",
       "Yugoslavia     <=50K       0.000000       41.600000  \n",
       "               >50K        0.000000       49.500000  \n",
       "\n",
       "[82 rows x 6 columns]"
      ]
     },
     "execution_count": 11,
     "metadata": {},
     "output_type": "execute_result"
    }
   ],
   "source": [
    "#8.Посчитайте среднее время работы (hours-per-week) зарабатывающих мало и много (salary) для каждой страны (native-country)\n",
    "data.groupby(['native-country','salary']).mean()"
   ]
  }
 ],
 "metadata": {
  "kernelspec": {
   "display_name": "Python 3",
   "language": "python",
   "name": "python3"
  },
  "language_info": {
   "codemirror_mode": {
    "name": "ipython",
    "version": 3
   },
   "file_extension": ".py",
   "mimetype": "text/x-python",
   "name": "python",
   "nbconvert_exporter": "python",
   "pygments_lexer": "ipython3",
   "version": "3.8.5"
  }
 },
 "nbformat": 4,
 "nbformat_minor": 2
}
